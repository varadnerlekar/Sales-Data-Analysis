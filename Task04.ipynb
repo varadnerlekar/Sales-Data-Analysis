{
 "cells": [
  {
   "cell_type": "code",
   "execution_count": 1,
   "metadata": {},
   "outputs": [],
   "source": [
    "# Preprocessing\n",
    "import pandas as pd\n",
    "import numpy as np\n",
    "import matplotlib.pyplot as plt\n",
    "\n",
    "data = pd.read_excel (r'Superstore.xls')"
   ]
  },
  {
   "cell_type": "markdown",
   "metadata": {},
   "source": [
    "## Task 4:\n",
    "### Find out the monthy revenue and analyze the findings"
   ]
  },
  {
   "cell_type": "markdown",
   "metadata": {},
   "source": [
    "#### a.) Create a column with Year and month field only give a suitable name to it."
   ]
  },
  {
   "cell_type": "code",
   "execution_count": 2,
   "metadata": {},
   "outputs": [
    {
     "name": "stdout",
     "output_type": "stream",
     "text": [
      "This is the column containing the Month and Year data.\n"
     ]
    },
    {
     "data": {
      "text/plain": [
       "0    2016-11\n",
       "1    2016-11\n",
       "2    2016-06\n",
       "3    2015-10\n",
       "4    2015-10\n",
       "Name: Order Date, dtype: object"
      ]
     },
     "execution_count": 2,
     "metadata": {},
     "output_type": "execute_result"
    }
   ],
   "source": [
    "order_date_year = data[\"Order Date\"].dt.year\n",
    "data['Year'] = pd.DataFrame(order_date_year)\n",
    "order_date_month = data[\"Order Date\"].dt.month\n",
    "data['Month'] = pd.DataFrame(order_date_month)\n",
    "\n",
    "monthly_data = data['Order Date'].dt.strftime('%Y-%m')\n",
    "print(\"This is the column containing the Month and Year data.\")\n",
    "monthly_data.head()"
   ]
  },
  {
   "cell_type": "markdown",
   "metadata": {},
   "source": [
    "#### b.) Create a separate dataset from the data which will have two columns, one which is created in step 'a' of this task and second the monthly sales/revenue"
   ]
  },
  {
   "cell_type": "code",
   "execution_count": 3,
   "metadata": {},
   "outputs": [
    {
     "name": "stdout",
     "output_type": "stream",
     "text": [
      "This is the new dataset which contains the monthly sales/revenue.\n"
     ]
    },
    {
     "data": {
      "text/html": [
       "<div>\n",
       "<style scoped>\n",
       "    .dataframe tbody tr th:only-of-type {\n",
       "        vertical-align: middle;\n",
       "    }\n",
       "\n",
       "    .dataframe tbody tr th {\n",
       "        vertical-align: top;\n",
       "    }\n",
       "\n",
       "    .dataframe thead th {\n",
       "        text-align: right;\n",
       "    }\n",
       "</style>\n",
       "<table border=\"1\" class=\"dataframe\">\n",
       "  <thead>\n",
       "    <tr style=\"text-align: right;\">\n",
       "      <th></th>\n",
       "      <th>Sales</th>\n",
       "      <th>Profit</th>\n",
       "      <th>Date</th>\n",
       "    </tr>\n",
       "  </thead>\n",
       "  <tbody>\n",
       "    <tr>\n",
       "      <th>0</th>\n",
       "      <td>14236.895</td>\n",
       "      <td>2450.1907</td>\n",
       "      <td>2014-01-01</td>\n",
       "    </tr>\n",
       "    <tr>\n",
       "      <th>1</th>\n",
       "      <td>4519.892</td>\n",
       "      <td>862.3084</td>\n",
       "      <td>2014-02-01</td>\n",
       "    </tr>\n",
       "    <tr>\n",
       "      <th>2</th>\n",
       "      <td>55691.009</td>\n",
       "      <td>498.7299</td>\n",
       "      <td>2014-03-01</td>\n",
       "    </tr>\n",
       "    <tr>\n",
       "      <th>3</th>\n",
       "      <td>28295.345</td>\n",
       "      <td>3488.8352</td>\n",
       "      <td>2014-04-01</td>\n",
       "    </tr>\n",
       "    <tr>\n",
       "      <th>4</th>\n",
       "      <td>23648.287</td>\n",
       "      <td>2738.7096</td>\n",
       "      <td>2014-05-01</td>\n",
       "    </tr>\n",
       "  </tbody>\n",
       "</table>\n",
       "</div>"
      ],
      "text/plain": [
       "       Sales     Profit       Date\n",
       "0  14236.895  2450.1907 2014-01-01\n",
       "1   4519.892   862.3084 2014-02-01\n",
       "2  55691.009   498.7299 2014-03-01\n",
       "3  28295.345  3488.8352 2014-04-01\n",
       "4  23648.287  2738.7096 2014-05-01"
      ]
     },
     "execution_count": 3,
     "metadata": {},
     "output_type": "execute_result"
    }
   ],
   "source": [
    "monthly_sales = data.groupby(['Year','Month'])['Sales'].sum()\n",
    "newdata = pd.DataFrame(monthly_sales)\n",
    "\n",
    "newdata1 = data.groupby(['Year','Month'])['Profit'].sum()\n",
    "newdata1 = pd.DataFrame(newdata1)\n",
    "\n",
    "result_month = newdata.merge(newdata1, left_index=True, right_index=True)\n",
    "result_month.reset_index(inplace=True)\n",
    "result_month['Date'] = pd.to_datetime(result_month[['Year','Month']].assign(DAY=1))\n",
    "tempmonth = result_month\n",
    "result_month = result_month.drop(columns=[\"Year\",\"Month\"])\n",
    "\n",
    "print(\"This is the new dataset which contains the monthly sales/revenue.\")\n",
    "result_month.head()"
   ]
  },
  {
   "cell_type": "markdown",
   "metadata": {},
   "source": [
    "#### c.) Plot this dataset"
   ]
  },
  {
   "cell_type": "code",
   "execution_count": 4,
   "metadata": {},
   "outputs": [
    {
     "data": {
      "text/plain": [
       "<matplotlib.axes._subplots.AxesSubplot at 0x18034b0c710>"
      ]
     },
     "execution_count": 4,
     "metadata": {},
     "output_type": "execute_result"
    },
    {
     "data": {
      "image/png": "[encoded data removed]",
      "text/plain": [
       "<Figure size 432x288 with 1 Axes>"
      ]
     },
     "metadata": {},
     "output_type": "display_data"
    }
   ],
   "source": [
    "result_month.plot(x='Date',y=['Sales','Profit'])"
   ]
  }
 ],
 "metadata": {
  "kernelspec": {
   "display_name": "Python 3",
   "language": "python",
   "name": "python3"
  },
  "language_info": {
   "codemirror_mode": {
    "name": "ipython",
    "version": 3
   },
   "file_extension": ".py",
   "mimetype": "text/x-python",
   "name": "python",
   "nbconvert_exporter": "python",
   "pygments_lexer": "ipython3",
   "version": "3.6.5"
  }
 },
 "nbformat": 4,
 "nbformat_minor": 2
}
